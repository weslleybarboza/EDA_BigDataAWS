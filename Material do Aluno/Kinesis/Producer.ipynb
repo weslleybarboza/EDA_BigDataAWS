{
  "cells": [
    {
      "cell_type": "code",
      "execution_count": null,
      "metadata": {
        "id": "aQ3E-PhcbBv7"
      },
      "outputs": [],
      "source": [
        "# PASSO A PASSO\n",
        "# Criar um grupo de usuario com permissao de Administrator\n",
        "# Criar um usuario e atribuir ele ao grupo de Administrator\n",
        "# Gerar uma Secret para o usuario\n",
        "# Criar as credenciais no Google Colab para aws_access_key_id e aws_secret_access_key\n",
        "# Criar uma role concedendo permissao do KDF (Kinesis Data Firehose) com o servico do S3 - Apenas para a demonstracao do Firehose"
      ]
    },
    {
      "cell_type": "code",
      "execution_count": null,
      "metadata": {
        "id": "YaHTn6EdvcLH"
      },
      "outputs": [],
      "source": [
        "!pip install boto3 awscli"
      ]
    },
    {
      "cell_type": "code",
      "execution_count": 5,
      "metadata": {
        "id": "2iMA1uPrvgVn"
      },
      "outputs": [],
      "source": [
        "import getpass\n",
        "from google.colab import userdata"
      ]
    },
    {
      "cell_type": "code",
      "execution_count": null,
      "metadata": {
        "id": "xAU4Z_gIvgsz"
      },
      "outputs": [],
      "source": [
        "# Entre com as informacoes da credencial e da regiao onde sera feito o deploy do kinesis - Utilizando o Google Colab faca a criacao da credencial com os nomes aws_access_key_id e aws_secret_access_key.\n",
        "aws_access_key_id = userdata.get('aws_access_key_id') # getpass.getpass('Enter AWS Access Key ID: ')\n",
        "aws_secret_access_key = userdata.get('aws_secret_access_key') # getpass.getpass('Enter AWS Secret Access Key: ')\n",
        "aws_region = input('Enter AWS Region: ')"
      ]
    },
    {
      "cell_type": "code",
      "execution_count": 7,
      "metadata": {
        "id": "Tty5WOTMw6RE"
      },
      "outputs": [],
      "source": [
        "!aws configure set aws_access_key_id $aws_access_key_id\n",
        "!aws configure set aws_secret_access_key $aws_secret_access_key\n",
        "!aws configure set default.region $aws_region"
      ]
    },
    {
      "cell_type": "code",
      "execution_count": 8,
      "metadata": {
        "id": "vXmxYWIRxHJ2"
      },
      "outputs": [],
      "source": [
        "!aws kinesis create-stream --stream-name eda-kds-market"
      ]
    },
    {
      "cell_type": "code",
      "execution_count": null,
      "metadata": {
        "id": "BRenQnCDxNBy"
      },
      "outputs": [],
      "source": [
        "!aws kinesis describe-stream-summary --stream-name eda-kds-market"
      ]
    },
    {
      "cell_type": "code",
      "execution_count": 10,
      "metadata": {
        "id": "3NUkE9LBxZcH"
      },
      "outputs": [],
      "source": [
        "import boto3\n",
        "import random\n",
        "import time\n",
        "import json\n",
        "import datetime"
      ]
    },
    {
      "cell_type": "code",
      "execution_count": 11,
      "metadata": {
        "id": "HJEbu1zxxbt5"
      },
      "outputs": [],
      "source": [
        "kinesis_client = boto3.client(\n",
        "    'kinesis',\n",
        "    aws_access_key_id = aws_access_key_id,\n",
        "    aws_secret_access_key = aws_secret_access_key,\n",
        "    region_name = aws_region\n",
        ")"
      ]
    },
    {
      "cell_type": "code",
      "execution_count": 12,
      "metadata": {
        "id": "M5tpyPX_xyIU"
      },
      "outputs": [],
      "source": [
        "# Funcao para gerar dados aleatorios de acoes\n",
        "def gerar_dados_acoes():\n",
        "    simbolos = ['AAPL', 'AMZN', 'GOOG', 'MSFT', 'TSLA']\n",
        "    simbolo = random.choice(simbolos)\n",
        "    preco = round(random.uniform(100, 500), 2)\n",
        "    volume = random.randint(1000, 10000)\n",
        "    timestamp = datetime.datetime.utcnow().isoformat()\n",
        "    dados = {\n",
        "        'simbolo': simbolo,\n",
        "        'preco': preco,\n",
        "        'volume': volume,\n",
        "        'timestamp': timestamp\n",
        "    }\n",
        "    return dados"
      ]
    },
    {
      "cell_type": "code",
      "execution_count": 13,
      "metadata": {
        "id": "bDkXucbRxx9L"
      },
      "outputs": [],
      "source": [
        "# Loop para enviar dados ao Kinesis Data Stream\n",
        "def enviar_dados_kinesis(stream_name, payload, partition_key):\n",
        "      try:\n",
        "        response = kinesis_client.put_record(\n",
        "            StreamName = stream_name,\n",
        "            Data = payload,\n",
        "            PartitionKey = partition_key\n",
        "        )\n",
        "\n",
        "        print(f\"Dados enviados: {dados}\")\n",
        "      except Exception as e:\n",
        "        print(f\"Erro ao enviar dados: {e}\")\n",
        "        time.sleep(5)  # Ajuste o intervalo de tempo conforme necessario"
      ]
    },
    {
      "cell_type": "code",
      "execution_count": null,
      "metadata": {
        "id": "fZ1rEbRayrqd"
      },
      "outputs": [],
      "source": [
        "if __name__ == \"__main__\":\n",
        "  stream_name = 'eda-kds-market'\n",
        "\n",
        "  while True:\n",
        "    dados = gerar_dados_acoes()\n",
        "    payload = json.dumps(dados).encode('utf-8')\n",
        "    partition_key = dados['simbolo']\n",
        "\n",
        "    enviar_dados_kinesis(stream_name, payload, partition_key)\n",
        "    time.sleep(2) # Simula o envio periodico de transacoes"
      ]
    }
  ],
  "metadata": {
    "colab": {
      "provenance": []
    },
    "kernelspec": {
      "display_name": "Python 3",
      "name": "python3"
    },
    "language_info": {
      "name": "python"
    }
  },
  "nbformat": 4,
  "nbformat_minor": 0
}
