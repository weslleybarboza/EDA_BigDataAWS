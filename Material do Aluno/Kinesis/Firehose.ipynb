{
  "cells": [
    {
      "cell_type": "code",
      "execution_count": null,
      "metadata": {
        "id": "TfZa_Sq0HYUZ"
      },
      "outputs": [],
      "source": [
        "!pip install boto3 awscli"
      ]
    },
    {
      "cell_type": "code",
      "execution_count": 2,
      "metadata": {
        "id": "zFlk7hxfHRPc"
      },
      "outputs": [],
      "source": [
        "from google.colab import userdata"
      ]
    },
    {
      "cell_type": "code",
      "execution_count": 3,
      "metadata": {
        "id": "klth9ppeHSoH"
      },
      "outputs": [],
      "source": [
        "import boto3\n",
        "import json\n",
        "import time"
      ]
    },
    {
      "cell_type": "code",
      "execution_count": 4,
      "metadata": {
        "id": "Cu7-BmiBHVKK"
      },
      "outputs": [],
      "source": [
        "# Configuracao das credenciais da AWS (substitua pelos seus valores) - Utilizando o Google Colab faca a criacao da credencial com os nomes aws_access_key_id e aws_secret_access_key.\n",
        "aws_access_key_id = userdata.get('aws_access_key_id')\n",
        "aws_secret_access_key = userdata.get('aws_secret_access_key')\n",
        "region_name = 'us-east-2'"
      ]
    },
    {
      "cell_type": "code",
      "execution_count": 7,
      "metadata": {
        "id": "UvUpMX6zHxZ-"
      },
      "outputs": [],
      "source": [
        "# Inicializacao dos clientes do Kinesis e Firehose\n",
        "kinesis_client = boto3.client(\n",
        "    'kinesis',\n",
        "    aws_access_key_id=aws_access_key_id,\n",
        "    aws_secret_access_key=aws_secret_access_key,\n",
        "    region_name=region_name\n",
        ")\n",
        "\n",
        "firehose_client = boto3.client(\n",
        "    'firehose',\n",
        "    aws_access_key_id=aws_access_key_id,\n",
        "    aws_secret_access_key=aws_secret_access_key,\n",
        "    region_name=region_name\n",
        ")"
      ]
    },
    {
      "cell_type": "code",
      "execution_count": 8,
      "metadata": {
        "id": "wxkPa24ASCq8"
      },
      "outputs": [],
      "source": [
        "# Nome do stream do Kinesis Firehose\n",
        "delivery_stream_name = 'eda-kdf-market'  # Substitua pelo nome desejado\n",
        "# Nome do seu Kinesis Data Stream\n",
        "stream_name = 'eda-kds-market' # Substitua pelo nome desejado"
      ]
    },
    {
      "cell_type": "code",
      "execution_count": null,
      "metadata": {
        "id": "2ZJ8NRXEIrYL"
      },
      "outputs": [],
      "source": [
        "# Criacao do stream do Kinesis Firehose (se nao existir)\n",
        "firehose_client.create_delivery_stream(\n",
        "    DeliveryStreamName = delivery_stream_name,\n",
        "    DeliveryStreamType = 'DirectPut',\n",
        "    S3DestinationConfiguration = {\n",
        "        'RoleARN': 'arn:aws:iam::763308243640:role/eda-kdf-firehose-access',  # Substitua pelos seus valores - Acesso do Firehose ao S3 e AWS Lambda\n",
        "        'BucketARN': 'arn:aws:s3:::eda-landing-zone-us-east-2-763308243640',  # Substitua pelos seus valores - Nome do bucket que armazera os dados originados do Firehose\n",
        "        'Prefix': 'dados_firehose/eda_kdf_market/',  # Substitua pelo prefixo desejado - Nome do \"diretprio\" no bucket do s3 que vai armazenar os dados processados\n",
        "        'BufferingHints': {\n",
        "            'SizeInMBs': 1,\n",
        "            'IntervalInSeconds': 60\n",
        "        },\n",
        "        'CompressionFormat': 'UNCOMPRESSED',\n",
        "        'ErrorOutputPrefix': 'erros/'\n",
        "    }\n",
        ")\n",
        "print(f\"Stream do Kinesis Firehose '{delivery_stream_name}' criado com sucesso.\")\n",
        "\n",
        "# Aguardar a criacao do stream (pode levar alguns minutos)"
      ]
    },
    {
      "cell_type": "code",
      "execution_count": 10,
      "metadata": {
        "id": "dA1LyIGWJi7v"
      },
      "outputs": [],
      "source": [
        "# Funcao para processar os registros do Kinesis\n",
        "def process_records(records):\n",
        "    for record in records:\n",
        "        # Decodifica os dados do registro\n",
        "        data = record['Data'].decode('utf-8')\n",
        "\n",
        "        # Converte os dados para um dicionario Python (se necessario)\n",
        "        try:\n",
        "            data_dict = json.loads(data)\n",
        "        except:\n",
        "            print(\"Erro ao converter dados para JSON:\", data)\n",
        "            continue\n",
        "\n",
        "        # Aqui voce pode realizar o processamento dos dados,\n",
        "        # como filtragem, transformacao, etc.\n",
        "\n",
        "        # Envia os dados para o Firehose\n",
        "        response = firehose_client.put_record(\n",
        "            DeliveryStreamName=delivery_stream_name,\n",
        "            Record={\n",
        "                'Data': json.dumps(data_dict)\n",
        "            }\n",
        "        )\n",
        "\n",
        "        # Imprime a resposta do Firehose (opcional)\n",
        "        print(response)"
      ]
    },
    {
      "cell_type": "code",
      "execution_count": null,
      "metadata": {
        "id": "7m1hUKfOMKOb"
      },
      "outputs": [],
      "source": [
        "# Loop principal para consumir dados do Kinesis\n",
        "while True:\n",
        "    # Obtem os shards do Kinesis Data Stream\n",
        "    response = kinesis_client.describe_stream(StreamName=stream_name)\n",
        "    shards = response['StreamDescription']['Shards']\n",
        "\n",
        "    # Itera sobre os shards\n",
        "    for shard in shards:\n",
        "        shard_id = shard['ShardId']\n",
        "\n",
        "        # Obtem o iterator para o shard\n",
        "        shard_iterator = kinesis_client.get_shard_iterator(\n",
        "            StreamName=stream_name,\n",
        "            ShardId=shard_id,\n",
        "            ShardIteratorType='TRIM_HORIZON'  # LATEST para ler a partir da inicializacao do KDF ou 'TRIM_HORIZON' para ler desde o inicio\n",
        "        )['ShardIterator']\n",
        "\n",
        "        # Loop para consumir registros do shard\n",
        "        while True:\n",
        "            # Obtem os registros do shard\n",
        "            records_response = kinesis_client.get_records(\n",
        "                ShardIterator=shard_iterator,\n",
        "                Limit=100  # Numero maximo de registros a serem retornados\n",
        "            )\n",
        "\n",
        "            # Processa os registros\n",
        "            process_records(records_response['Records'])\n",
        "\n",
        "            # Verifica se ha mais registros a serem lidos\n",
        "            if 'NextShardIterator' in records_response:\n",
        "                shard_iterator = records_response['NextShardIterator']\n",
        "            else:\n",
        "                break\n",
        "\n",
        "            # Aguarda um curto periodo antes de ler mais registros (opcional)\n",
        "            time.sleep(1)"
      ]
    }
  ],
  "metadata": {
    "colab": {
      "provenance": []
    },
    "kernelspec": {
      "display_name": "Python 3",
      "name": "python3"
    },
    "language_info": {
      "name": "python"
    }
  },
  "nbformat": 4,
  "nbformat_minor": 0
}
