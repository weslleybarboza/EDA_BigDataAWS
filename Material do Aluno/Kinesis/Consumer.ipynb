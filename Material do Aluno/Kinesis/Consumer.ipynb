{
  "cells": [
    {
      "cell_type": "code",
      "execution_count": null,
      "metadata": {
        "id": "ZfAvX9601ssa"
      },
      "outputs": [],
      "source": [
        "!pip install boto3 awscli"
      ]
    },
    {
      "cell_type": "code",
      "execution_count": 2,
      "metadata": {
        "id": "0Qxr4Z5L1snf"
      },
      "outputs": [],
      "source": [
        "import getpass\n",
        "from google.colab import userdata"
      ]
    },
    {
      "cell_type": "code",
      "execution_count": null,
      "metadata": {
        "id": "UoobYFGj1skG"
      },
      "outputs": [],
      "source": [
        "# Entre com as informacoes da credencial e da regiao onde sera feito o deploy do kinesis - Utilizando o Google Colab faca a criacao da credencial com os nomes aws_access_key_id e aws_secret_access_key.\n",
        "aws_access_key_id = userdata.get('aws_access_key_id') # getpass.getpass('Enter AWS Access Key ID: ')\n",
        "aws_secret_access_key = userdata.get('aws_secret_access_key') # getpass.getpass('Enter AWS Secret Access Key: ')\n",
        "aws_region = input('Enter AWS Region: ')"
      ]
    },
    {
      "cell_type": "code",
      "execution_count": 4,
      "metadata": {
        "id": "tzAlTWC41sgm"
      },
      "outputs": [],
      "source": [
        "!aws configure set aws_access_key_id $aws_access_key_id\n",
        "!aws configure set aws_secret_access_key $aws_secret_access_key\n",
        "!aws configure set default.region $aws_region"
      ]
    },
    {
      "cell_type": "code",
      "execution_count": null,
      "metadata": {
        "id": "7d_5moNq1sdi"
      },
      "outputs": [],
      "source": [
        "!aws kinesis describe-stream-summary --stream-name eda-kds-market"
      ]
    },
    {
      "cell_type": "code",
      "execution_count": 6,
      "metadata": {
        "id": "9utQYP7U1saQ"
      },
      "outputs": [],
      "source": [
        "import boto3\n",
        "import json\n",
        "import time"
      ]
    },
    {
      "cell_type": "code",
      "execution_count": 7,
      "metadata": {
        "id": "N-d0Qxg825Ec"
      },
      "outputs": [],
      "source": [
        "stream_name = 'eda-kds-market'"
      ]
    },
    {
      "cell_type": "code",
      "execution_count": 8,
      "metadata": {
        "id": "1I2liktl2w0t"
      },
      "outputs": [],
      "source": [
        "kinesis_client = boto3.client(\n",
        "    'kinesis',\n",
        "    aws_access_key_id = aws_access_key_id,\n",
        "    aws_secret_access_key = aws_secret_access_key,\n",
        "    region_name = aws_region\n",
        ")"
      ]
    },
    {
      "cell_type": "code",
      "execution_count": 9,
      "metadata": {
        "id": "WYRDPzyj1sW-"
      },
      "outputs": [],
      "source": [
        "# Funcao para processar os registros do Kinesis\n",
        "def get_records(records):\n",
        "    response = kinesis_client.get_records(\n",
        "        ShardIterator=shard_iterator,\n",
        "        Limit=10\n",
        "    )\n",
        "    return response.get('Records', []), response.get('NextShardIterator')"
      ]
    },
    {
      "cell_type": "code",
      "execution_count": 10,
      "metadata": {
        "id": "tx4gbiL-1sNB"
      },
      "outputs": [],
      "source": [
        "# Loop principal para recuperar dados do stream\n",
        "def get_shard_iterator():\n",
        "    response = kinesis_client.get_shard_iterator(\n",
        "        StreamName=stream_name,\n",
        "        ShardId='<shardId>',  # Substitua pelo seu shard ID\n",
        "        ShardIteratorType='TRIM_HORIZON'\n",
        "    )\n",
        "\n",
        "    return response['ShardIterator']"
      ]
    },
    {
      "cell_type": "code",
      "execution_count": 11,
      "metadata": {
        "id": "01hQHUx03Ze0"
      },
      "outputs": [],
      "source": [
        "def process_market_data(data):\n",
        "    print(f\"Received Weather Data: {data}\")"
      ]
    },
    {
      "cell_type": "code",
      "execution_count": null,
      "metadata": {
        "id": "O8MYxEUh1sGl"
      },
      "outputs": [],
      "source": [
        "if __name__ == \"__main__\":\n",
        "    shard_iterator = get_shard_iterator()\n",
        "\n",
        "    while True:\n",
        "        records, next_shard_iterator = get_records(shard_iterator)\n",
        "        for record in records:\n",
        "            data = json.loads(record['Data'])\n",
        "            process_market_data(data)\n",
        "\n",
        "        if not next_shard_iterator:\n",
        "            print(\"No more records in the shard. Exiting.\")\n",
        "            break\n",
        "\n",
        "        shard_iterator = next_shard_iterator\n",
        "        time.sleep(2)  # Adiciona um atraso entre as leituras"
      ]
    }
  ],
  "metadata": {
    "colab": {
      "provenance": []
    },
    "kernelspec": {
      "display_name": "Python 3",
      "name": "python3"
    },
    "language_info": {
      "name": "python"
    }
  },
  "nbformat": 4,
  "nbformat_minor": 0
}
